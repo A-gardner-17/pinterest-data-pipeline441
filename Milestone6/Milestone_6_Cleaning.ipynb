{
 "cells": [
  {
   "cell_type": "markdown",
   "metadata": {
    "application/vnd.databricks.v1+cell": {
     "cellMetadata": {},
     "inputWidgets": {},
     "nuid": "6cdd592e-845f-4a4a-b2cf-54a50b52e44e",
     "showTitle": false,
     "tableResultSettingsMap": {},
     "title": ""
    }
   },
   "source": [
    "##Milestone 6 Batch Processing: Spark on Databricks##"
   ]
  },
  {
   "cell_type": "code",
   "execution_count": 0,
   "metadata": {
    "application/vnd.databricks.v1+cell": {
     "cellMetadata": {
      "byteLimit": 2048000,
      "rowLimit": 10000
     },
     "inputWidgets": {},
     "nuid": "58cfaa0c-9deb-4a0b-abe5-6945501d299f",
     "showTitle": false,
     "tableResultSettingsMap": {},
     "title": ""
    }
   },
   "outputs": [],
   "source": [
    "# Read Delta table pin\n",
    "df_pin = spark.read.format(\"delta\").table(\"57e94de2a910_pin\")\n"
   ]
  },
  {
   "cell_type": "code",
   "execution_count": 0,
   "metadata": {
    "application/vnd.databricks.v1+cell": {
     "cellMetadata": {
      "byteLimit": 2048000,
      "rowLimit": 10000
     },
     "inputWidgets": {},
     "nuid": "192ad33c-82a4-48ac-a8d7-d7529ff61add",
     "showTitle": false,
     "tableResultSettingsMap": {},
     "title": ""
    }
   },
   "outputs": [
    {
     "output_type": "stream",
     "name": "stdout",
     "output_type": "stream",
     "text": [
      "+-----+--------------------+--------------------+--------------------+--------------+--------------------+--------------------+--------------------+--------------------+--------------------+--------------+\n|  ind|           unique_id|               title|         description|follower_count|         poster_name|            tag_list|   is_image_or_video|           image_src|       save_location|      category|\n+-----+--------------------+--------------------+--------------------+--------------+--------------------+--------------------+--------------------+--------------------+--------------------+--------------+\n| 3824|03e68424-8062-432...|Special Education...|Special education...|          4000|Caffeine Queen Te...|Teaching Special ...|               image|https://i.pinimg....|Local save in /da...|     education|\n| 7116|7eecd591-39d4-451...|           style guy|Fashion is what y...|          3000|      Vanessa Ferran|White Shirt Outfi...|               image|https://i.pinimg....|Local save in /da...|  mens-fashion|\n|   74|f0a3a02d-5cc3-4cb...|3rd Grade Fall Fo...|3rd Grade Fall Fo...|         13000|Elements of the A...|Fall Art Projects...|               image|https://i.pinimg....|Local save in /da...|           art|\n| 1335|758cf11d-280e-4dc...|Rihanna's Fenty B...|Rihanna walked us...|       1000000|          Refinery29|Make Up Kits,Beau...|               image|https://i.pinimg....|Local save in /da...|        beauty|\n| 4513|9d6d3562-aae6-49f...|Free Party Planne...|Free Party Planne...|        168000|      Snappy Gourmet|Birthday Party Ch...|               image|https://i.pinimg....|Local save in /da...|event-planning|\n| 7850|7b901b10-bc4d-42b...|SIMPLE AND TO THE...|It's taken me 50 ...|         15000|Leanne | Midlife ...|Needy Quotes,Give...|               image|https://i.pinimg....|Local save in /da...|        quotes|\n|10248|f25d2dcc-83e0-439...|Best things to do...|Cannes, a kind of...|         10000|Whisper Wanderlus...|Cool Places To Vi...|               image|https://i.pinimg....|Local save in /da...|        travel|\n| 8123|3e9581f2-c826-41d...|Quotes - Two Sout...|Quotes - Quotes a...|         13000|Two Southern Swee...|Fake People Quote...|               image|https://i.pinimg....|Local save in /da...|        quotes|\n| 2987|959c436a-0139-48a...|Thumbprint Skelet...|A cute thumbprint...|         67000|Monique - Living ...|Kids Crafts,Hallo...|               image|https://i.pinimg....|Local save in /da...|diy-and-crafts|\n| 1487|7308c3c0-05d5-4e0...|DIY Green Tea Ove...|Get glowing skin ...|         36000|     A Life Adjacent|Homemade Skin Car...|               image|https://i.pinimg....|Local save in /da...|        beauty|\n|10052|ccfa7a81-a0df-4b5...|most charming pla...|Helene Sula (@hel...|         40000|         Maria Braga|Beautiful Places ...|               video|https://i.pinimg....|Local save in /da...|        travel|\n| 8677|eb0440f7-7599-4ee...|Chrissy Teigen's ...|Chrissy Teigen de...|       5000000|            POPSUGAR|Tattoo Down Spine...|               image|https://i.pinimg....|Local save in /da...|       tattoos|\n| 5551|2f1a2e82-2e1b-48b...|How To Save Money...|Ever tried a spen...|        152000|Jordan Page | Fun...|Save Money On Gro...|               image|https://i.pinimg....|Local save in /da...|       finance|\n| 6652|203cf7a1-c29c-48c...|Macrame Wall Hang...|This Boho wall ha...|            25|          Plex Oasis|Home Wall Decor,N...|               image|https://i.pinimg....|Local save in /da...|    home-decor|\n| 6479|a9371b74-e496-467...|Top 10 Favorite I...|I have had this q...|         49000|Seeking Lavender ...|European Kitchens...|               image|https://i.pinimg....|Local save in /da...|    home-decor|\n| 6660|f638a116-845e-47b...|AUTUMN SUN IN THE...|                NULL|         34000|    Abbie Decoration|Decor Home Living...|multi-video(story...|https://i.pinimg....|Local save in /da...|    home-decor|\n| 9218|033c9dee-153d-49c...|Tattoo design |Wo...|Many female tatto...|         23000|fashionchaser | n...|Tiny Tattoos For ...|               image|https://i.pinimg....|Local save in /da...|       tattoos|\n| 4055|1e18abb3-42f1-4d7...|Post-It Math Acti...|Working on additi...|        203000|Susie Allison | B...|Number Sense Acti...|               image|https://i.pinimg....|Local save in /da...|     education|\n| 7370|c03f1e5d-c51c-4c0...|Guy Stuff – The S...|                NULL|           323|       Ebbert Barnes|Mode Outfits,Casu...|               image|https://i.pinimg....|Local save in /da...|  mens-fashion|\n|   25|f19b91c7-2a58-41a...|How to use an Ang...|If I could only c...|         20000|The Social Easel ...|Fall Canvas Paint...|               image|https://i.pinimg....|Local save in /da...|           art|\n+-----+--------------------+--------------------+--------------------+--------------+--------------------+--------------------+--------------------+--------------------+--------------------+--------------+\nonly showing top 20 rows\n\n"
     ]
    }
   ],
   "source": [
    "# Clean pin data\n",
    "\n",
    "from pyspark.sql.functions import when, col, lit, regexp_replace\n",
    "\n",
    "# Replace empty entries and entries with no relevant data in each column with Nones\n",
    "replace_values = [\"\", \"N/A\", \"null\", \"No description available\", \"No description available Story format\", \"User Info Error\", \"Image src error.\", \"N,o, ,T,a,g,s, ,A,v,a,i,l,a,b,l,e\", \"No Title Data Available\"]\n",
    "\n",
    "# Replace empty and irrelevant entries with None for each column\n",
    "df_pin = df_pin.select([\n",
    "    when(col(c).isin(replace_values) | (col(c) == \"\"), lit(None)).otherwise(col(c)).alias(c)\n",
    "    for c in df_pin.columns\n",
    "])\n",
    "\n",
    "# Filter rows where 'downloaded' is 1 or 0\n",
    "df_pin = df_pin.filter((col(\"downloaded\") == 1) | (col(\"downloaded\") == 0))\n",
    "\n",
    "df_pin.show()"
   ]
  },
  {
   "cell_type": "code",
   "execution_count": 0,
   "metadata": {
    "application/vnd.databricks.v1+cell": {
     "cellMetadata": {
      "byteLimit": 2048000,
      "rowLimit": 10000
     },
     "inputWidgets": {},
     "nuid": "dbdf95eb-127f-44f3-94e2-2cb8906590b3",
     "showTitle": false,
     "tableResultSettingsMap": {},
     "title": ""
    }
   },
   "outputs": [
    {
     "output_type": "stream",
     "name": "stdout",
     "output_type": "stream",
     "text": [
      "+----------+\n|downloaded|\n+----------+\n|         0|\n|         1|\n+----------+\n\n"
     ]
    }
   ],
   "source": [
    "df_pin.select(\"downloaded\").distinct().show()"
   ]
  },
  {
   "cell_type": "code",
   "execution_count": 0,
   "metadata": {
    "application/vnd.databricks.v1+cell": {
     "cellMetadata": {
      "byteLimit": 2048000,
      "rowLimit": 10000
     },
     "inputWidgets": {},
     "nuid": "4d021ca9-c13d-491c-b107-395cc037a6dc",
     "showTitle": false,
     "tableResultSettingsMap": {},
     "title": ""
    }
   },
   "outputs": [
    {
     "output_type": "stream",
     "name": "stdout",
     "output_type": "stream",
     "text": [
      "+--------------+--------------------+----------+--------------+--------------------+-----+--------------------+--------------------+--------------------+--------------------+--------------------+--------------------+\n|      category|         description|downloaded|follower_count|           image_src|index|   is_image_or_video|         poster_name|       save_location|            tag_list|               title|           unique_id|\n+--------------+--------------------+----------+--------------+--------------------+-----+--------------------+--------------------+--------------------+--------------------+--------------------+--------------------+\n|     education|Special education...|         1|        4000.0|https://i.pinimg....| 3824|               image|Caffeine Queen Te...|Local save in /da...|Teaching Special ...|Special Education...|03e68424-8062-432...|\n|  mens-fashion|Fashion is what y...|         1|        3000.0|https://i.pinimg....| 7116|               image|      Vanessa Ferran|Local save in /da...|White Shirt Outfi...|           style guy|7eecd591-39d4-451...|\n|           art|3rd Grade Fall Fo...|         1|       13000.0|https://i.pinimg....|   74|               image|Elements of the A...|Local save in /da...|Fall Art Projects...|3rd Grade Fall Fo...|f0a3a02d-5cc3-4cb...|\n|        beauty|Rihanna walked us...|         1|     1000000.0|https://i.pinimg....| 1335|               image|          Refinery29|Local save in /da...|Make Up Kits,Beau...|Rihanna's Fenty B...|758cf11d-280e-4dc...|\n|event-planning|Free Party Planne...|         1|      168000.0|https://i.pinimg....| 4513|               image|      Snappy Gourmet|Local save in /da...|Birthday Party Ch...|Free Party Planne...|9d6d3562-aae6-49f...|\n|        quotes|It's taken me 50 ...|         1|       15000.0|https://i.pinimg....| 7850|               image|Leanne | Midlife ...|Local save in /da...|Needy Quotes,Give...|SIMPLE AND TO THE...|7b901b10-bc4d-42b...|\n|        travel|Cannes, a kind of...|         1|       10000.0|https://i.pinimg....|10248|               image|Whisper Wanderlus...|Local save in /da...|Cool Places To Vi...|Best things to do...|f25d2dcc-83e0-439...|\n|        quotes|Quotes - Quotes a...|         1|       13000.0|https://i.pinimg....| 8123|               image|Two Southern Swee...|Local save in /da...|Fake People Quote...|Quotes - Two Sout...|3e9581f2-c826-41d...|\n|diy-and-crafts|A cute thumbprint...|         1|       67000.0|https://i.pinimg....| 2987|               image|Monique - Living ...|Local save in /da...|Kids Crafts,Hallo...|Thumbprint Skelet...|959c436a-0139-48a...|\n|        beauty|Get glowing skin ...|         1|       36000.0|https://i.pinimg....| 1487|               image|     A Life Adjacent|Local save in /da...|Homemade Skin Car...|DIY Green Tea Ove...|7308c3c0-05d5-4e0...|\n|        travel|Helene Sula (@hel...|         1|       40000.0|https://i.pinimg....|10052|               video|         Maria Braga|Local save in /da...|Beautiful Places ...|most charming pla...|ccfa7a81-a0df-4b5...|\n|       tattoos|Chrissy Teigen de...|         1|     5000000.0|https://i.pinimg....| 8677|               image|            POPSUGAR|Local save in /da...|Tattoo Down Spine...|Chrissy Teigen's ...|eb0440f7-7599-4ee...|\n|       finance|Ever tried a spen...|         1|      152000.0|https://i.pinimg....| 5551|               image|Jordan Page | Fun...|Local save in /da...|Save Money On Gro...|How To Save Money...|2f1a2e82-2e1b-48b...|\n|    home-decor|This Boho wall ha...|         1|          25.0|https://i.pinimg....| 6652|               image|          Plex Oasis|Local save in /da...|Home Wall Decor,N...|Macrame Wall Hang...|203cf7a1-c29c-48c...|\n|    home-decor|I have had this q...|         1|       49000.0|https://i.pinimg....| 6479|               image|Seeking Lavender ...|Local save in /da...|European Kitchens...|Top 10 Favorite I...|a9371b74-e496-467...|\n|    home-decor|                NULL|         1|       34000.0|https://i.pinimg....| 6660|multi-video(story...|    Abbie Decoration|Local save in /da...|Decor Home Living...|AUTUMN SUN IN THE...|f638a116-845e-47b...|\n|       tattoos|Many female tatto...|         1|       23000.0|https://i.pinimg....| 9218|               image|fashionchaser | n...|Local save in /da...|Tiny Tattoos For ...|Tattoo design |Wo...|033c9dee-153d-49c...|\n|     education|Working on additi...|         1|      203000.0|https://i.pinimg....| 4055|               image|Susie Allison | B...|Local save in /da...|Number Sense Acti...|Post-It Math Acti...|1e18abb3-42f1-4d7...|\n|  mens-fashion|                NULL|         1|         323.0|https://i.pinimg....| 7370|               image|       Ebbert Barnes|Local save in /da...|Mode Outfits,Casu...|Guy Stuff – The S...|c03f1e5d-c51c-4c0...|\n|           art|If I could only c...|         1|       20000.0|https://i.pinimg....|   25|               image|The Social Easel ...|Local save in /da...|Fall Canvas Paint...|How to use an Ang...|f19b91c7-2a58-41a...|\n+--------------+--------------------+----------+--------------+--------------------+-----+--------------------+--------------------+--------------------+--------------------+--------------------+--------------------+\nonly showing top 20 rows\n\n"
     ]
    }
   ],
   "source": [
    "\n",
    "# Step 1: Standardize follower_count values\n",
    "df_pin = df_pin.withColumn(\n",
    "    \"follower_count\",\n",
    "    # Replace 'k' with '000' and 'M' with '000000'\n",
    "    when(col(\"follower_count\").endswith(\"k\"), regexp_replace(col(\"follower_count\"), \"k\", \"000\").cast(\"double\"))\n",
    "    .when(col(\"follower_count\").endswith(\"M\"), regexp_replace(col(\"follower_count\"), \"M\", \"000000\").cast(\"double\"))\n",
    "    .otherwise(col(\"follower_count\").cast(\"double\"))  # Handle numeric values like '25'\n",
    ")\n",
    "\n",
    "# Step 2: Drop rows where follower_count is null or not valid\n",
    "df_pin = df_pin.filter(col(\"follower_count\").isNotNull())\n",
    "\n",
    "# Show the cleaned DataFrame\n",
    "df_pin.show()"
   ]
  },
  {
   "cell_type": "code",
   "execution_count": 0,
   "metadata": {
    "application/vnd.databricks.v1+cell": {
     "cellMetadata": {
      "byteLimit": 2048000,
      "rowLimit": 10000
     },
     "inputWidgets": {},
     "nuid": "22b7c97b-f278-4efd-bca2-d26b7b1ffee9",
     "showTitle": false,
     "tableResultSettingsMap": {},
     "title": ""
    }
   },
   "outputs": [
    {
     "output_type": "stream",
     "name": "stdout",
     "output_type": "stream",
     "text": [
      "+--------------+--------------------+----------+--------------+--------------------+-----+--------------------+--------------------+--------------------+--------------------+--------------------+--------------------+\n|      category|         description|downloaded|follower_count|           image_src|index|   is_image_or_video|         poster_name|       save_location|            tag_list|               title|           unique_id|\n+--------------+--------------------+----------+--------------+--------------------+-----+--------------------+--------------------+--------------------+--------------------+--------------------+--------------------+\n|     education|Special education...|         1|          4000|https://i.pinimg....| 3824|               image|Caffeine Queen Te...|Local save in /da...|Teaching Special ...|Special Education...|03e68424-8062-432...|\n|  mens-fashion|Fashion is what y...|         1|          3000|https://i.pinimg....| 7116|               image|      Vanessa Ferran|Local save in /da...|White Shirt Outfi...|           style guy|7eecd591-39d4-451...|\n|           art|3rd Grade Fall Fo...|         1|         13000|https://i.pinimg....|   74|               image|Elements of the A...|Local save in /da...|Fall Art Projects...|3rd Grade Fall Fo...|f0a3a02d-5cc3-4cb...|\n|        beauty|Rihanna walked us...|         1|       1000000|https://i.pinimg....| 1335|               image|          Refinery29|Local save in /da...|Make Up Kits,Beau...|Rihanna's Fenty B...|758cf11d-280e-4dc...|\n|event-planning|Free Party Planne...|         1|        168000|https://i.pinimg....| 4513|               image|      Snappy Gourmet|Local save in /da...|Birthday Party Ch...|Free Party Planne...|9d6d3562-aae6-49f...|\n|        quotes|It's taken me 50 ...|         1|         15000|https://i.pinimg....| 7850|               image|Leanne | Midlife ...|Local save in /da...|Needy Quotes,Give...|SIMPLE AND TO THE...|7b901b10-bc4d-42b...|\n|        travel|Cannes, a kind of...|         1|         10000|https://i.pinimg....|10248|               image|Whisper Wanderlus...|Local save in /da...|Cool Places To Vi...|Best things to do...|f25d2dcc-83e0-439...|\n|        quotes|Quotes - Quotes a...|         1|         13000|https://i.pinimg....| 8123|               image|Two Southern Swee...|Local save in /da...|Fake People Quote...|Quotes - Two Sout...|3e9581f2-c826-41d...|\n|diy-and-crafts|A cute thumbprint...|         1|         67000|https://i.pinimg....| 2987|               image|Monique - Living ...|Local save in /da...|Kids Crafts,Hallo...|Thumbprint Skelet...|959c436a-0139-48a...|\n|        beauty|Get glowing skin ...|         1|         36000|https://i.pinimg....| 1487|               image|     A Life Adjacent|Local save in /da...|Homemade Skin Car...|DIY Green Tea Ove...|7308c3c0-05d5-4e0...|\n|        travel|Helene Sula (@hel...|         1|         40000|https://i.pinimg....|10052|               video|         Maria Braga|Local save in /da...|Beautiful Places ...|most charming pla...|ccfa7a81-a0df-4b5...|\n|       tattoos|Chrissy Teigen de...|         1|       5000000|https://i.pinimg....| 8677|               image|            POPSUGAR|Local save in /da...|Tattoo Down Spine...|Chrissy Teigen's ...|eb0440f7-7599-4ee...|\n|       finance|Ever tried a spen...|         1|        152000|https://i.pinimg....| 5551|               image|Jordan Page | Fun...|Local save in /da...|Save Money On Gro...|How To Save Money...|2f1a2e82-2e1b-48b...|\n|    home-decor|This Boho wall ha...|         1|            25|https://i.pinimg....| 6652|               image|          Plex Oasis|Local save in /da...|Home Wall Decor,N...|Macrame Wall Hang...|203cf7a1-c29c-48c...|\n|    home-decor|I have had this q...|         1|         49000|https://i.pinimg....| 6479|               image|Seeking Lavender ...|Local save in /da...|European Kitchens...|Top 10 Favorite I...|a9371b74-e496-467...|\n|    home-decor|                NULL|         1|         34000|https://i.pinimg....| 6660|multi-video(story...|    Abbie Decoration|Local save in /da...|Decor Home Living...|AUTUMN SUN IN THE...|f638a116-845e-47b...|\n|       tattoos|Many female tatto...|         1|         23000|https://i.pinimg....| 9218|               image|fashionchaser | n...|Local save in /da...|Tiny Tattoos For ...|Tattoo design |Wo...|033c9dee-153d-49c...|\n|     education|Working on additi...|         1|        203000|https://i.pinimg....| 4055|               image|Susie Allison | B...|Local save in /da...|Number Sense Acti...|Post-It Math Acti...|1e18abb3-42f1-4d7...|\n|  mens-fashion|                NULL|         1|           323|https://i.pinimg....| 7370|               image|       Ebbert Barnes|Local save in /da...|Mode Outfits,Casu...|Guy Stuff – The S...|c03f1e5d-c51c-4c0...|\n|           art|If I could only c...|         1|         20000|https://i.pinimg....|   25|               image|The Social Easel ...|Local save in /da...|Fall Canvas Paint...|How to use an Ang...|f19b91c7-2a58-41a...|\n+--------------+--------------------+----------+--------------+--------------------+-----+--------------------+--------------------+--------------------+--------------------+--------------------+--------------------+\nonly showing top 20 rows\n\n"
     ]
    }
   ],
   "source": [
    "from pyspark.sql.types import IntegerType\n",
    "\n",
    "df_pin = df_pin.withColumn(\"follower_count\", col(\"follower_count\").cast(IntegerType()))\n",
    "df_pin.show()"
   ]
  },
  {
   "cell_type": "code",
   "execution_count": 0,
   "metadata": {
    "application/vnd.databricks.v1+cell": {
     "cellMetadata": {
      "byteLimit": 2048000,
      "rowLimit": 10000
     },
     "inputWidgets": {},
     "nuid": "d6d11114-f175-44b5-882a-2211d5e2329c",
     "showTitle": false,
     "tableResultSettingsMap": {},
     "title": ""
    }
   },
   "outputs": [
    {
     "output_type": "stream",
     "name": "stdout",
     "output_type": "stream",
     "text": [
      "+--------------+--------------------+----------+--------------+--------------------+-----+--------------------+--------------------+--------------------+--------------------+--------------------+--------------------+\n|      category|         description|downloaded|follower_count|           image_src|  ind|   is_image_or_video|         poster_name|       save_location|            tag_list|               title|           unique_id|\n+--------------+--------------------+----------+--------------+--------------------+-----+--------------------+--------------------+--------------------+--------------------+--------------------+--------------------+\n|     education|Special education...|         1|          4000|https://i.pinimg....| 3824|               image|Caffeine Queen Te...|Local save in /da...|Teaching Special ...|Special Education...|03e68424-8062-432...|\n|  mens-fashion|Fashion is what y...|         1|          3000|https://i.pinimg....| 7116|               image|      Vanessa Ferran|Local save in /da...|White Shirt Outfi...|           style guy|7eecd591-39d4-451...|\n|           art|3rd Grade Fall Fo...|         1|         13000|https://i.pinimg....|   74|               image|Elements of the A...|Local save in /da...|Fall Art Projects...|3rd Grade Fall Fo...|f0a3a02d-5cc3-4cb...|\n|        beauty|Rihanna walked us...|         1|       1000000|https://i.pinimg....| 1335|               image|          Refinery29|Local save in /da...|Make Up Kits,Beau...|Rihanna's Fenty B...|758cf11d-280e-4dc...|\n|event-planning|Free Party Planne...|         1|        168000|https://i.pinimg....| 4513|               image|      Snappy Gourmet|Local save in /da...|Birthday Party Ch...|Free Party Planne...|9d6d3562-aae6-49f...|\n|        quotes|It's taken me 50 ...|         1|         15000|https://i.pinimg....| 7850|               image|Leanne | Midlife ...|Local save in /da...|Needy Quotes,Give...|SIMPLE AND TO THE...|7b901b10-bc4d-42b...|\n|        travel|Cannes, a kind of...|         1|         10000|https://i.pinimg....|10248|               image|Whisper Wanderlus...|Local save in /da...|Cool Places To Vi...|Best things to do...|f25d2dcc-83e0-439...|\n|        quotes|Quotes - Quotes a...|         1|         13000|https://i.pinimg....| 8123|               image|Two Southern Swee...|Local save in /da...|Fake People Quote...|Quotes - Two Sout...|3e9581f2-c826-41d...|\n|diy-and-crafts|A cute thumbprint...|         1|         67000|https://i.pinimg....| 2987|               image|Monique - Living ...|Local save in /da...|Kids Crafts,Hallo...|Thumbprint Skelet...|959c436a-0139-48a...|\n|        beauty|Get glowing skin ...|         1|         36000|https://i.pinimg....| 1487|               image|     A Life Adjacent|Local save in /da...|Homemade Skin Car...|DIY Green Tea Ove...|7308c3c0-05d5-4e0...|\n|        travel|Helene Sula (@hel...|         1|         40000|https://i.pinimg....|10052|               video|         Maria Braga|Local save in /da...|Beautiful Places ...|most charming pla...|ccfa7a81-a0df-4b5...|\n|       tattoos|Chrissy Teigen de...|         1|       5000000|https://i.pinimg....| 8677|               image|            POPSUGAR|Local save in /da...|Tattoo Down Spine...|Chrissy Teigen's ...|eb0440f7-7599-4ee...|\n|       finance|Ever tried a spen...|         1|        152000|https://i.pinimg....| 5551|               image|Jordan Page | Fun...|Local save in /da...|Save Money On Gro...|How To Save Money...|2f1a2e82-2e1b-48b...|\n|    home-decor|This Boho wall ha...|         1|            25|https://i.pinimg....| 6652|               image|          Plex Oasis|Local save in /da...|Home Wall Decor,N...|Macrame Wall Hang...|203cf7a1-c29c-48c...|\n|    home-decor|I have had this q...|         1|         49000|https://i.pinimg....| 6479|               image|Seeking Lavender ...|Local save in /da...|European Kitchens...|Top 10 Favorite I...|a9371b74-e496-467...|\n|    home-decor|                NULL|         1|         34000|https://i.pinimg....| 6660|multi-video(story...|    Abbie Decoration|Local save in /da...|Decor Home Living...|AUTUMN SUN IN THE...|f638a116-845e-47b...|\n|       tattoos|Many female tatto...|         1|         23000|https://i.pinimg....| 9218|               image|fashionchaser | n...|Local save in /da...|Tiny Tattoos For ...|Tattoo design |Wo...|033c9dee-153d-49c...|\n|     education|Working on additi...|         1|        203000|https://i.pinimg....| 4055|               image|Susie Allison | B...|Local save in /da...|Number Sense Acti...|Post-It Math Acti...|1e18abb3-42f1-4d7...|\n|  mens-fashion|                NULL|         1|           323|https://i.pinimg....| 7370|               image|       Ebbert Barnes|Local save in /da...|Mode Outfits,Casu...|Guy Stuff – The S...|c03f1e5d-c51c-4c0...|\n|           art|If I could only c...|         1|         20000|https://i.pinimg....|   25|               image|The Social Easel ...|Local save in /da...|Fall Canvas Paint...|How to use an Ang...|f19b91c7-2a58-41a...|\n+--------------+--------------------+----------+--------------+--------------------+-----+--------------------+--------------------+--------------------+--------------------+--------------------+--------------------+\nonly showing top 20 rows\n\n"
     ]
    }
   ],
   "source": [
    "# rename the index column to ind\n",
    "df_pin = df_pin.withColumnRenamed(\"index\", \"ind\")\n",
    "\n",
    "df_pin.show()"
   ]
  },
  {
   "cell_type": "code",
   "execution_count": 0,
   "metadata": {
    "application/vnd.databricks.v1+cell": {
     "cellMetadata": {
      "byteLimit": 2048000,
      "rowLimit": 10000
     },
     "inputWidgets": {},
     "nuid": "f733c459-e147-4882-bece-614c99d34578",
     "showTitle": false,
     "tableResultSettingsMap": {},
     "title": ""
    }
   },
   "outputs": [
    {
     "output_type": "stream",
     "name": "stdout",
     "output_type": "stream",
     "text": [
      "+-----+--------------------+--------------------+--------------------+--------------+--------------------+--------------------+--------------------+--------------------+--------------------+--------------+\n|  ind|           unique_id|               title|         description|follower_count|         poster_name|            tag_list|   is_image_or_video|           image_src|       save_location|      category|\n+-----+--------------------+--------------------+--------------------+--------------+--------------------+--------------------+--------------------+--------------------+--------------------+--------------+\n| 3824|03e68424-8062-432...|Special Education...|Special education...|          4000|Caffeine Queen Te...|Teaching Special ...|               image|https://i.pinimg....|Local save in /da...|     education|\n| 7116|7eecd591-39d4-451...|           style guy|Fashion is what y...|          3000|      Vanessa Ferran|White Shirt Outfi...|               image|https://i.pinimg....|Local save in /da...|  mens-fashion|\n|   74|f0a3a02d-5cc3-4cb...|3rd Grade Fall Fo...|3rd Grade Fall Fo...|         13000|Elements of the A...|Fall Art Projects...|               image|https://i.pinimg....|Local save in /da...|           art|\n| 1335|758cf11d-280e-4dc...|Rihanna's Fenty B...|Rihanna walked us...|       1000000|          Refinery29|Make Up Kits,Beau...|               image|https://i.pinimg....|Local save in /da...|        beauty|\n| 4513|9d6d3562-aae6-49f...|Free Party Planne...|Free Party Planne...|        168000|      Snappy Gourmet|Birthday Party Ch...|               image|https://i.pinimg....|Local save in /da...|event-planning|\n| 7850|7b901b10-bc4d-42b...|SIMPLE AND TO THE...|It's taken me 50 ...|         15000|Leanne | Midlife ...|Needy Quotes,Give...|               image|https://i.pinimg....|Local save in /da...|        quotes|\n|10248|f25d2dcc-83e0-439...|Best things to do...|Cannes, a kind of...|         10000|Whisper Wanderlus...|Cool Places To Vi...|               image|https://i.pinimg....|Local save in /da...|        travel|\n| 8123|3e9581f2-c826-41d...|Quotes - Two Sout...|Quotes - Quotes a...|         13000|Two Southern Swee...|Fake People Quote...|               image|https://i.pinimg....|Local save in /da...|        quotes|\n| 2987|959c436a-0139-48a...|Thumbprint Skelet...|A cute thumbprint...|         67000|Monique - Living ...|Kids Crafts,Hallo...|               image|https://i.pinimg....|Local save in /da...|diy-and-crafts|\n| 1487|7308c3c0-05d5-4e0...|DIY Green Tea Ove...|Get glowing skin ...|         36000|     A Life Adjacent|Homemade Skin Car...|               image|https://i.pinimg....|Local save in /da...|        beauty|\n|10052|ccfa7a81-a0df-4b5...|most charming pla...|Helene Sula (@hel...|         40000|         Maria Braga|Beautiful Places ...|               video|https://i.pinimg....|Local save in /da...|        travel|\n| 8677|eb0440f7-7599-4ee...|Chrissy Teigen's ...|Chrissy Teigen de...|       5000000|            POPSUGAR|Tattoo Down Spine...|               image|https://i.pinimg....|Local save in /da...|       tattoos|\n| 5551|2f1a2e82-2e1b-48b...|How To Save Money...|Ever tried a spen...|        152000|Jordan Page | Fun...|Save Money On Gro...|               image|https://i.pinimg....|Local save in /da...|       finance|\n| 6652|203cf7a1-c29c-48c...|Macrame Wall Hang...|This Boho wall ha...|            25|          Plex Oasis|Home Wall Decor,N...|               image|https://i.pinimg....|Local save in /da...|    home-decor|\n| 6479|a9371b74-e496-467...|Top 10 Favorite I...|I have had this q...|         49000|Seeking Lavender ...|European Kitchens...|               image|https://i.pinimg....|Local save in /da...|    home-decor|\n| 6660|f638a116-845e-47b...|AUTUMN SUN IN THE...|                NULL|         34000|    Abbie Decoration|Decor Home Living...|multi-video(story...|https://i.pinimg....|Local save in /da...|    home-decor|\n| 9218|033c9dee-153d-49c...|Tattoo design |Wo...|Many female tatto...|         23000|fashionchaser | n...|Tiny Tattoos For ...|               image|https://i.pinimg....|Local save in /da...|       tattoos|\n| 4055|1e18abb3-42f1-4d7...|Post-It Math Acti...|Working on additi...|        203000|Susie Allison | B...|Number Sense Acti...|               image|https://i.pinimg....|Local save in /da...|     education|\n| 7370|c03f1e5d-c51c-4c0...|Guy Stuff – The S...|                NULL|           323|       Ebbert Barnes|Mode Outfits,Casu...|               image|https://i.pinimg....|Local save in /da...|  mens-fashion|\n|   25|f19b91c7-2a58-41a...|How to use an Ang...|If I could only c...|         20000|The Social Easel ...|Fall Canvas Paint...|               image|https://i.pinimg....|Local save in /da...|           art|\n+-----+--------------------+--------------------+--------------------+--------------+--------------------+--------------------+--------------------+--------------------+--------------------+--------------+\nonly showing top 20 rows\n\n"
     ]
    }
   ],
   "source": [
    "# column order\n",
    "column_order = [\n",
    "    \"ind\",\n",
    "    \"unique_id\",\n",
    "    \"title\",\n",
    "    \"description\",\n",
    "    \"follower_count\",\n",
    "    \"poster_name\",\n",
    "    \"tag_list\",\n",
    "    \"is_image_or_video\",\n",
    "    \"image_src\",\n",
    "    \"save_location\",\n",
    "    \"category\"\n",
    "]\n",
    "\n",
    "# Reorder the DataFrame columns\n",
    "df_pin = df_pin.select(column_order)\n",
    "\n",
    "# Show the reordered DataFrame\n",
    "df_pin.show()"
   ]
  },
  {
   "cell_type": "code",
   "execution_count": 0,
   "metadata": {
    "application/vnd.databricks.v1+cell": {
     "cellMetadata": {
      "byteLimit": 2048000,
      "rowLimit": 10000
     },
     "inputWidgets": {},
     "nuid": "f36227cc-ab6b-4f96-8032-9180fa24ff1c",
     "showTitle": false,
     "tableResultSettingsMap": {},
     "title": ""
    }
   },
   "outputs": [],
   "source": [
    "# Save cleaned data\n",
    "table_name = \"57e94de2a910_pin_cleaned\"  \n",
    "df_pin.write.format(\"delta\").mode(\"overwrite\").saveAsTable(table_name)"
   ]
  },
  {
   "cell_type": "code",
   "execution_count": 0,
   "metadata": {
    "application/vnd.databricks.v1+cell": {
     "cellMetadata": {
      "byteLimit": 2048000,
      "rowLimit": 10000
     },
     "inputWidgets": {},
     "nuid": "f3c596d4-6818-4f90-aff6-e8288ef2a320",
     "showTitle": false,
     "tableResultSettingsMap": {},
     "title": ""
    }
   },
   "outputs": [
    {
     "output_type": "stream",
     "name": "stdout",
     "output_type": "stream",
     "text": [
      "+--------------------+-----+---------+---------+-------------------+\n|             country|  ind| latitude|longitude|          timestamp|\n+--------------------+-----+---------+---------+-------------------+\n|             Albania| 7528| -89.9787| -173.293|2020-08-28T03:52:47|\n|             Armenia| 2863| -5.34445| -177.924|2020-04-27T13:34:16|\n|            Colombia| 5730|  -77.015| -101.437|2021-04-19T17:37:03|\n|       French Guiana| 8304| -28.8852|  -164.87|2019-09-13T04:50:29|\n|               Aruba| 8731|  -83.104| -171.302|2020-07-17T04:39:09|\n|            Maldives| 1313|  77.0447|  61.9119|2018-06-26T02:39:25|\n|       Cote d'Ivoire| 4315| -45.8508|  66.1003|2019-12-15T03:51:28|\n|Cocos (Keeling) I...|10794| -89.5236| -154.567|2022-01-01T02:26:50|\n|            Bulgaria| 5494| -82.6768| -129.202|2021-07-21T02:02:35|\n|          Azerbaijan| 5069| -63.0063| -157.474|2021-03-20T09:32:44|\n|       Cote d'Ivoire| 2923| -84.6302| -164.507|2019-09-08T22:53:09|\n|             Albania| 3089| -89.9787| -173.293|2018-02-28T05:31:29|\n|            Anguilla| 6063| -89.1797| -174.015|2021-07-20T09:02:47|\n|            Cambodia| 3454|-0.375174|  49.8106|2021-07-25T02:20:29|\n|               Sudan| 7554| -51.2172| -77.9768|2019-03-20T03:15:07|\n|          Mozambique| 6145| -65.9079| -143.845|2019-12-05T02:09:44|\n|             Jamaica|10625| -84.4944| -81.0613|2018-07-13T11:51:15|\n|              Angola| 2959| -68.0095| -157.227|2019-08-19T08:22:02|\n|            Barbados| 9875| -74.3382| -110.484|2020-03-20T13:03:18|\n|Antarctica (the t...| 2418| -88.4642| -171.061|2022-05-27T11:30:59|\n+--------------------+-----+---------+---------+-------------------+\nonly showing top 20 rows\n\n"
     ]
    }
   ],
   "source": [
    "# Clean geolocation data\n",
    "# Read Delta table geo\n",
    "df_geo = spark.read.format(\"delta\").table(\"57e94de2a910_geo\")\n",
    "df_geo.show()"
   ]
  },
  {
   "cell_type": "code",
   "execution_count": 0,
   "metadata": {
    "application/vnd.databricks.v1+cell": {
     "cellMetadata": {
      "byteLimit": 2048000,
      "rowLimit": 10000
     },
     "inputWidgets": {},
     "nuid": "4d60fa62-45be-4e03-b460-d5d5bf92209f",
     "showTitle": false,
     "tableResultSettingsMap": {},
     "title": ""
    }
   },
   "outputs": [
    {
     "output_type": "stream",
     "name": "stdout",
     "output_type": "stream",
     "text": [
      "root\n |-- country: string (nullable = true)\n |-- ind: long (nullable = true)\n |-- latitude: double (nullable = true)\n |-- longitude: double (nullable = true)\n |-- timestamp: string (nullable = true)\n\n+--------------------+-----+---------+---------+-------------------+\n|             country|  ind| latitude|longitude|          timestamp|\n+--------------------+-----+---------+---------+-------------------+\n|             Albania| 7528| -89.9787| -173.293|2020-08-28T03:52:47|\n|             Armenia| 2863| -5.34445| -177.924|2020-04-27T13:34:16|\n|            Colombia| 5730|  -77.015| -101.437|2021-04-19T17:37:03|\n|       French Guiana| 8304| -28.8852|  -164.87|2019-09-13T04:50:29|\n|               Aruba| 8731|  -83.104| -171.302|2020-07-17T04:39:09|\n|            Maldives| 1313|  77.0447|  61.9119|2018-06-26T02:39:25|\n|       Cote d'Ivoire| 4315| -45.8508|  66.1003|2019-12-15T03:51:28|\n|Cocos (Keeling) I...|10794| -89.5236| -154.567|2022-01-01T02:26:50|\n|            Bulgaria| 5494| -82.6768| -129.202|2021-07-21T02:02:35|\n|          Azerbaijan| 5069| -63.0063| -157.474|2021-03-20T09:32:44|\n|       Cote d'Ivoire| 2923| -84.6302| -164.507|2019-09-08T22:53:09|\n|             Albania| 3089| -89.9787| -173.293|2018-02-28T05:31:29|\n|            Anguilla| 6063| -89.1797| -174.015|2021-07-20T09:02:47|\n|            Cambodia| 3454|-0.375174|  49.8106|2021-07-25T02:20:29|\n|               Sudan| 7554| -51.2172| -77.9768|2019-03-20T03:15:07|\n|          Mozambique| 6145| -65.9079| -143.845|2019-12-05T02:09:44|\n|             Jamaica|10625| -84.4944| -81.0613|2018-07-13T11:51:15|\n|              Angola| 2959| -68.0095| -157.227|2019-08-19T08:22:02|\n|            Barbados| 9875| -74.3382| -110.484|2020-03-20T13:03:18|\n|Antarctica (the t...| 2418| -88.4642| -171.061|2022-05-27T11:30:59|\n+--------------------+-----+---------+---------+-------------------+\nonly showing top 20 rows\n\n"
     ]
    }
   ],
   "source": [
    "df_geo.printSchema()\n",
    "df_geo.show()"
   ]
  },
  {
   "cell_type": "code",
   "execution_count": 0,
   "metadata": {
    "application/vnd.databricks.v1+cell": {
     "cellMetadata": {
      "byteLimit": 2048000,
      "rowLimit": 10000
     },
     "inputWidgets": {},
     "nuid": "e0b1a12a-30dd-479c-8d7d-121fb643a8cb",
     "showTitle": false,
     "tableResultSettingsMap": {},
     "title": ""
    }
   },
   "outputs": [
    {
     "output_type": "stream",
     "name": "stdout",
     "output_type": "stream",
     "text": [
      "+-----+--------------------+--------------------+-------------------+\n|  ind|             country|         coordinates|          timestamp|\n+-----+--------------------+--------------------+-------------------+\n| 3824|British Virgin Is...|[-82.4276, -170.019]|2018-10-28 19:22:34|\n| 7116|               Macao| [-18.3686, 72.4109]|2019-09-16 18:45:41|\n|   74| Antigua and Barbuda|[-81.0108, -165.206]|2020-01-29 14:03:35|\n| 1335|Antarctica (the t...|[-77.9931, -175.682]|2022-03-19 17:29:42|\n| 4513|             Namibia|  [22.2314, 144.214]|2022-04-11 11:05:13|\n| 7850|             Vietnam|  [26.5208, 160.699]|2022-04-09 15:06:01|\n|10248|   Equatorial Guinea| [-31.9615, 161.151]|2019-11-03 15:11:00|\n| 8123|             Morocco| [80.2593, -134.292]|2021-08-23 07:31:46|\n| 2987|            Dominica| [83.1466, -169.136]|2019-12-24 22:33:06|\n| 1487|             Denmark| [6.23029, -75.5939]|2021-05-15 18:23:45|\n|10052|Central African R...| [14.7195, -130.921]|2020-01-03 01:10:57|\n| 8677|Bouvet Island (Bo...|[-84.3984, -144.933]|2020-02-12 23:24:01|\n| 5551|            Colombia| [-67.8095, 63.2758]|2022-03-22 06:04:33|\n| 6652|               Egypt|[-78.2534, -170.668]|2018-11-28 08:21:12|\n| 6479|             Ireland| [47.9142, -98.4756]|2020-10-12 04:13:06|\n| 6660|Bouvet Island (Bo...| [-54.5264, 73.4883]|2019-02-01 11:00:19|\n| 9218|               Benin|[-70.6524, -171.552]|2020-05-07 21:30:58|\n| 4055|             Georgia| [16.8902, -123.373]|2021-09-23 06:42:16|\n| 7370|Saint Pierre and ...| [-24.2107, 138.463]|2018-04-05 08:02:42|\n|   25|             Ecuador| [-81.3019, 63.8961]|2021-12-02 12:40:33|\n+-----+--------------------+--------------------+-------------------+\nonly showing top 20 rows\n\n"
     ]
    }
   ],
   "source": [
    "from pyspark.sql.functions import array, col, to_timestamp\n",
    "\n",
    "# Create a new column as an array of 'column1' and 'column2'\n",
    "df_geo = df_geo.withColumn(\"coordinates\", array(col(\"latitude\"), col(\"longitude\")))\n",
    "\n",
    "# Drop the latitude and longitude columns\n",
    "df_geo = df_geo.drop(\"latitude\", \"longitude\")\n",
    "\n",
    "# Convert the timestamp column from a string to a timestamp data type\n",
    "df_geo = df_geo.withColumn(\"timestamp\", to_timestamp(col(\"timestamp\"), \"yyyy-MM-dd'T'HH:mm:ss\"))\n",
    "\n",
    "# Filter out rows where conversion failed (timestamp is null)\n",
    "df_geo = df_geo.filter(df_geo[\"timestamp\"].isNotNull())\n",
    "\n",
    "# New column order\n",
    "column_order = [\n",
    "    \"ind\",\n",
    "    \"country\",\n",
    "    \"coordinates\",\n",
    "    \"timestamp\",\n",
    "]\n",
    "\n",
    "# Reorder the DataFrame columns\n",
    "df_geo = df_geo.select(column_order)\n",
    "\n",
    "# Show the updated DataFrame\n",
    "df_geo.show()"
   ]
  },
  {
   "cell_type": "code",
   "execution_count": 0,
   "metadata": {
    "application/vnd.databricks.v1+cell": {
     "cellMetadata": {
      "byteLimit": 2048000,
      "rowLimit": 10000
     },
     "inputWidgets": {},
     "nuid": "058a4364-3c3e-4340-8189-f6f31d4aa84d",
     "showTitle": false,
     "tableResultSettingsMap": {},
     "title": ""
    }
   },
   "outputs": [
    {
     "output_type": "execute_result",
     "data": {
      "text/plain": [
       "DataFrame[]"
      ]
     },
     "execution_count": 52,
     "metadata": {},
     "output_type": "execute_result"
    }
   ],
   "source": [
    "spark.sql(\"DROP TABLE IF EXISTS 57e94de2a910_geo_cleaned_new\")"
   ]
  },
  {
   "cell_type": "code",
   "execution_count": 0,
   "metadata": {
    "application/vnd.databricks.v1+cell": {
     "cellMetadata": {
      "byteLimit": 2048000,
      "rowLimit": 10000
     },
     "inputWidgets": {},
     "nuid": "bb0a437e-536c-4957-a6b2-9712057bbded",
     "showTitle": false,
     "tableResultSettingsMap": {},
     "title": ""
    }
   },
   "outputs": [],
   "source": [
    "# Save cleaned data\n",
    "table_name = \"57e94de2a910_geo_cleaned\"  \n",
    "df_geo.write.format(\"delta\").mode(\"overwrite\").saveAsTable(table_name)"
   ]
  },
  {
   "cell_type": "code",
   "execution_count": 0,
   "metadata": {
    "application/vnd.databricks.v1+cell": {
     "cellMetadata": {
      "byteLimit": 2048000,
      "rowLimit": 10000
     },
     "inputWidgets": {},
     "nuid": "c2705138-f680-4f58-b2b2-dab01fda39ba",
     "showTitle": false,
     "tableResultSettingsMap": {},
     "title": ""
    }
   },
   "outputs": [
    {
     "output_type": "stream",
     "name": "stdout",
     "output_type": "stream",
     "text": [
      "+---+-------------------+----------+-----+---------+\n|age|        date_joined|first_name|  ind|last_name|\n+---+-------------------+----------+-----+---------+\n| 20|2015-10-24T11:23:51|   Abigail| 7528|      Ali|\n| 32|2016-10-23T14:06:51|     Dylan| 2863|   Holmes|\n| 36|2015-12-08T20:02:43|    Rachel| 5730|    Davis|\n| 25|2015-12-28T04:21:39|   Charles| 8304|    Berry|\n| 21|2015-11-10T09:27:42|    Andrea| 8731|Alexander|\n| 32|2016-04-02T03:51:23|  Brittany| 1313|    Jones|\n| 36|2015-12-20T16:38:13|  Michelle| 4315|   Prince|\n| 34|2016-12-22T00:02:02|    Thomas|10794|   Turner|\n| 27|2015-12-16T15:20:05|      Anne| 5494|    Allen|\n| 25|2016-01-13T17:36:30|    Amanda| 5069|     Ball|\n| 26|2015-11-11T03:20:57|     Brian| 2923|   Nelson|\n| 20|2015-10-24T11:23:51|   Abigail| 3089|      Ali|\n| 23|2015-11-25T13:36:22|     Corey| 6063|  Andrews|\n| 48|2017-09-26T16:31:56|    Robert| 3454|   Murphy|\n| 20|2017-04-11T16:35:33|    Cheryl| 7554|   Huerta|\n| 30|2015-12-25T20:24:37|     Emily| 6145|  Hawkins|\n| 32|2017-10-10T20:09:33| Christian|10625|     Lang|\n| 20|2016-01-07T19:49:22|     David| 2959| Griffith|\n| 26|2015-12-20T10:28:00|   Brendan| 9875|   Joseph|\n| 20|2015-10-21T08:27:36|    Amanda| 2418|    Adams|\n+---+-------------------+----------+-----+---------+\nonly showing top 20 rows\n\n"
     ]
    }
   ],
   "source": [
    "# Read Delta table user\n",
    "df_user = spark.read.format(\"delta\").table(\"57e94de2a910_user\")\n",
    "df_user.show()"
   ]
  },
  {
   "cell_type": "code",
   "execution_count": 0,
   "metadata": {
    "application/vnd.databricks.v1+cell": {
     "cellMetadata": {
      "byteLimit": 2048000,
      "rowLimit": 10000
     },
     "inputWidgets": {},
     "nuid": "bc820817-2dbd-4aff-b97d-56c44218eef0",
     "showTitle": false,
     "tableResultSettingsMap": {},
     "title": ""
    }
   },
   "outputs": [
    {
     "output_type": "stream",
     "name": "stdout",
     "output_type": "stream",
     "text": [
      "+----+----------------+---+-------------------+\n| ind|        username|age|        date_joined|\n+----+----------------+---+-------------------+\n|9502|    Brian Barnes| 29|2015-11-01 23:09:37|\n|2048|       Ann Chung| 22|2015-11-18 23:11:15|\n|1341|     Abigail Ali| 20|2015-10-24 11:23:51|\n|2553|  Bonnie Estrada| 30|2015-10-21 07:31:00|\n|2810|Brandi Cervantes| 35|2016-05-31 01:40:44|\n|9155| Aaron Alexander| 21|2015-10-25 07:36:08|\n|7448| Brenda Gonzalez| 56|2015-12-07 11:53:35|\n|1173|    Dana Jackson| 57|2016-06-05 21:37:09|\n|1631|   Lauren Powell| 30|2016-05-22 08:40:37|\n|8090|    Aaron Abbott| 20|2015-10-23 16:08:41|\n|7511|Sarah Valenzuela| 54|2016-12-08 15:53:57|\n|8996| Aaron Alexander| 21|2015-10-25 07:36:08|\n|9335|    Amanda Adams| 20|2015-10-21 08:27:36|\n|1139|   Jeffrey Smith| 30|2016-10-26 06:53:14|\n|7437|     Alvin Adams| 20|2016-01-01 13:50:40|\n|5198|     James Sharp| 23|2016-10-21 08:22:24|\n|9407|     Amy Andrews| 23|2015-10-29 19:12:55|\n|8926|     Tyler Davis| 27|2016-06-14 18:48:59|\n|8592| Alicia Benjamin| 27|2015-12-10 18:40:42|\n|1503|   Anthony Bryan| 22|2015-10-24 15:35:59|\n+----+----------------+---+-------------------+\nonly showing top 20 rows\n\n"
     ]
    }
   ],
   "source": [
    "from pyspark.sql.functions import concat, lit, col\n",
    "\n",
    "# Create a new column username that concatenates the information found in the first_name and last_name columns\n",
    "df_user = df_user.withColumn(\"username\", concat(col(\"first_name\"), lit(\" \"), col(\"last_name\")))\n",
    "\n",
    "# Drop the latitude and longitude columns\n",
    "df_user = df_user.drop(\"first_name\", \"last_name\")\n",
    "\n",
    "# Convert the date joined column from a string to a timestamp data type\n",
    "df_user = df_user.withColumn(\"date_joined\", to_timestamp(col(\"date_joined\"), \"yyyy-MM-dd'T'HH:mm:ss\"))\n",
    "\n",
    "# Filter out rows where conversion failed (timestamp_column is null)\n",
    "df_user = df_user.filter(df_user[\"date_joined\"].isNotNull())\n",
    "\n",
    "# New column order\n",
    "column_order = [\n",
    "    \"ind\",\n",
    "    \"username\",\n",
    "    \"age\",\n",
    "    \"date_joined\"\n",
    "]\n",
    "\n",
    "# Reorder the DataFrame columns\n",
    "df_user = df_user.select(column_order)\n",
    "\n",
    "# Show the updated DataFrame\n",
    "df_user.show()"
   ]
  },
  {
   "cell_type": "code",
   "execution_count": 0,
   "metadata": {
    "application/vnd.databricks.v1+cell": {
     "cellMetadata": {
      "byteLimit": 2048000,
      "rowLimit": 10000
     },
     "inputWidgets": {},
     "nuid": "19ff9695-6041-4f3f-b4d5-fadb35f4487d",
     "showTitle": false,
     "tableResultSettingsMap": {},
     "title": ""
    }
   },
   "outputs": [],
   "source": [
    "# Save cleaned data\n",
    "table_name = \"57e94de2a910_user_cleaned\"  \n",
    "df_user.write.format(\"delta\").mode(\"overwrite\").saveAsTable(table_name)"
   ]
  }
 ],
 "metadata": {
  "application/vnd.databricks.v1+notebook": {
   "computePreferences": null,
   "dashboards": [],
   "environmentMetadata": {
    "base_environment": "",
    "client": "2"
   },
   "language": "python",
   "notebookMetadata": {
    "pythonIndentUnit": 4
   },
   "notebookName": "Milestone 6 - Cleaning",
   "widgets": {}
  },
  "language_info": {
   "name": "python"
  }
 },
 "nbformat": 4,
 "nbformat_minor": 0
}