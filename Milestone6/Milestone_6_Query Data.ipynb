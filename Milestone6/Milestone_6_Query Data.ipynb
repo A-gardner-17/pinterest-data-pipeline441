{
 "cells": [
  {
   "cell_type": "markdown",
   "metadata": {
    "application/vnd.databricks.v1+cell": {
     "cellMetadata": {},
     "inputWidgets": {},
     "nuid": "f812a63e-a340-474a-92a5-2f6e4fc5ced1",
     "showTitle": false,
     "tableResultSettingsMap": {},
     "title": ""
    }
   },
   "source": [
    "## Milestone 6 - Querying - Most Popular Categories ##"
   ]
  },
  {
   "cell_type": "code",
   "execution_count": 0,
   "metadata": {
    "application/vnd.databricks.v1+cell": {
     "cellMetadata": {
      "byteLimit": 2048000,
      "rowLimit": 10000
     },
     "inputWidgets": {},
     "nuid": "20579858-5775-4912-8cc5-b07d22721c4f",
     "showTitle": false,
     "tableResultSettingsMap": {},
     "title": ""
    }
   },
   "outputs": [
    {
     "output_type": "stream",
     "name": "stdout",
     "output_type": "stream",
     "text": [
      "+--------------------+--------------+--------------+\n|             country|      category|category_count|\n+--------------------+--------------+--------------+\n|         Afghanistan|     education|             6|\n|             Albania|           art|             4|\n|             Algeria|        quotes|            11|\n|      American Samoa|       tattoos|             5|\n|             Andorra|       tattoos|             5|\n|              Angola|diy-and-crafts|             3|\n|            Anguilla|diy-and-crafts|             2|\n|Antarctica (the t...|       tattoos|             2|\n| Antigua and Barbuda|     christmas|             5|\n|           Argentina|       tattoos|             5|\n|             Armenia|        beauty|             3|\n|               Aruba|  mens-fashion|             5|\n|           Australia|  mens-fashion|             2|\n|             Austria|        travel|             2|\n|          Azerbaijan|event-planning|             2|\n|             Bahamas|        travel|             1|\n|             Bahrain|        travel|             2|\n|          Bangladesh|     christmas|             3|\n|            Barbados|     education|             2|\n|             Belarus|      vehicles|             1|\n+--------------------+--------------+--------------+\nonly showing top 20 rows\n\n"
     ]
    }
   ],
   "source": [
    "from pyspark.sql.window import Window\n",
    "from pyspark.sql.functions import when, col, count, row_number,expr\n",
    "\n",
    "# Load cleaned data\n",
    "df_pin = spark.read.format(\"delta\").table(\"57e94de2a910_pin_cleaned\")\n",
    "df_geo = spark.read.format(\"delta\").table(\"57e94de2a910_geo_cleaned\")\n",
    "df_user = spark.read.format(\"delta\").table(\"57e94de2a910_user_cleaned\")\n",
    "\n",
    "# Link pin and geo data\n",
    "pin_geo_link = df_pin.join(df_geo, df_pin.ind == df_geo.ind)\n",
    "\n",
    "# Window function to partition by country\n",
    "win = Window.partitionBy(\"country\").orderBy(col(\"category_count\").desc())\n",
    "\n",
    "# Most popular category by country\n",
    "pin_geo_link.groupBy(\"country\", \"category\") \\\n",
    ".agg(count(\"category\") \\\n",
    ".alias(\"category_count\")) \\\n",
    ".withColumn(\"rank\", row_number().over(win)) \\\n",
    ".filter(col(\"rank\") == 1) \\\n",
    ".drop(\"rank\") \\\n",
    ".show()\n"
   ]
  },
  {
   "cell_type": "markdown",
   "metadata": {
    "application/vnd.databricks.v1+cell": {
     "cellMetadata": {},
     "inputWidgets": {},
     "nuid": "08ef4398-7c3d-4bb3-a483-9f781657ebcf",
     "showTitle": false,
     "tableResultSettingsMap": {},
     "title": ""
    }
   },
   "source": [
    "## Milestone 6 - Querying - Most Popular Category Each Year ##"
   ]
  },
  {
   "cell_type": "code",
   "execution_count": 0,
   "metadata": {
    "application/vnd.databricks.v1+cell": {
     "cellMetadata": {
      "byteLimit": 2048000,
      "rowLimit": 10000
     },
     "inputWidgets": {},
     "nuid": "905cd457-20e9-4c7a-823c-fda127c409f4",
     "showTitle": false,
     "tableResultSettingsMap": {},
     "title": ""
    }
   },
   "outputs": [
    {
     "output_type": "stream",
     "name": "stdout",
     "output_type": "stream",
     "text": [
      "+---------+--------------+--------------+\n|post_year|      category|category_count|\n+---------+--------------+--------------+\n|     2018|     education|            12|\n|     2019|diy-and-crafts|            12|\n|     2020|       finance|            12|\n|     2021|       tattoos|            11|\n|     2022|     christmas|            14|\n+---------+--------------+--------------+\n\n"
     ]
    }
   ],
   "source": [
    "from pyspark.sql.functions import year, col, count\n",
    "\n",
    "# Window function to partition by year\n",
    "win =  Window.partitionBy(\"post_year\").orderBy(col(\"category_count\").desc())\n",
    "\n",
    "pin_geo_link.withColumn(\"post_year\", year(\"timestamp\")) \\\n",
    ".filter(col(\"post_year\") >= 2018) \\\n",
    ".filter(col(\"post_year\") <= 2022) \\\n",
    ".groupBy(\"post_year\", \"category\") \\\n",
    ".agg(count(\"category\").alias(\"category_count\")) \\\n",
    ".withColumn(\"rank\", row_number().over(win)) \\\n",
    ".filter(col(\"rank\") == 1) \\\n",
    ".drop(\"rank\") \\\n",
    ".show()\n"
   ]
  },
  {
   "cell_type": "markdown",
   "metadata": {
    "application/vnd.databricks.v1+cell": {
     "cellMetadata": {},
     "inputWidgets": {},
     "nuid": "9cf44722-b861-4227-a122-e38eb503d553",
     "showTitle": false,
     "tableResultSettingsMap": {},
     "title": ""
    }
   },
   "source": [
    "## Milestone 6 - Querying - Users with most followers by country ##"
   ]
  },
  {
   "cell_type": "code",
   "execution_count": 0,
   "metadata": {
    "application/vnd.databricks.v1+cell": {
     "cellMetadata": {
      "byteLimit": 2048000,
      "rowLimit": 10000
     },
     "inputWidgets": {},
     "nuid": "8482c221-0f03-44b0-889a-dbffc7bb18ff",
     "showTitle": false,
     "tableResultSettingsMap": {},
     "title": ""
    }
   },
   "outputs": [
    {
     "output_type": "stream",
     "name": "stdout",
     "output_type": "stream",
     "text": [
      "+--------------------+--------------------+--------------+\n|             country|         poster_name|follower_count|\n+--------------------+--------------------+--------------+\n|         Afghanistan|                9GAG|       3000000|\n|             Albania|   The Minds Journal|       5000000|\n|             Algeria|           YourTango|        942000|\n|      American Samoa|         Mamas Uncut|       8000000|\n|             Andorra|Teachers Pay Teac...|       1000000|\n|              Angola|           Tastemade|       8000000|\n|            Anguilla|Kristen | Lifesty...|         92000|\n|Antarctica (the t...|          Refinery29|       1000000|\n| Antigua and Barbuda|Country Living Ma...|       1000000|\n|           Argentina|         Next Luxury|        800000|\n|             Armenia|Michelle {CraftyM...|        892000|\n|               Aruba|         GQ Magazine|        874000|\n|           Australia|   Cultura Colectiva|       1000000|\n|             Austria|Totschooling | To...|        161000|\n|          Azerbaijan|     Style Me Pretty|       6000000|\n|             Bahamas|  Handmade Charlotte|        948000|\n|             Bahrain|R.J. Weiss at The...|         46000|\n|          Bangladesh|Better Homes and ...|       4000000|\n|            Barbados|The Creativity Ex...|        410000|\n|             Belarus|           Ricky Lee|           709|\n+--------------------+--------------------+--------------+\nonly showing top 20 rows\n\n+--------------+--------------+\n|       country|follower_count|\n+--------------+--------------+\n|American Samoa|       8000000|\n+--------------+--------------+\n\n"
     ]
    }
   ],
   "source": [
    "# For each country find the user with the most followers\n",
    "\n",
    "# Drop one of the duplicate 'ind' columns in the initial dataframe\n",
    "pin_geo_link = pin_geo_link.drop(df_geo[\"ind\"])\n",
    "\n",
    "# Setup link to user dataframe and pin_geo_link dataframe\n",
    "pin_geo_user = pin_geo_link.join(df_user, pin_geo_link[\"ind\"] == df_user[\"ind\"], \"inner\")\n",
    "\n",
    "# Window function to partition by country\n",
    "win = Window.partitionBy(\"country\").orderBy(col(\"follower_count\").desc())\n",
    "\n",
    "# Perform the query\n",
    "result_df = pin_geo_user \\\n",
    ".select(\"country\", \"poster_name\", \"follower_count\") \\\n",
    ".withColumn(\"rank\", row_number().over(win)) \\\n",
    ".filter(col(\"rank\") == 1) \\\n",
    ".drop(\"rank\") \\\n",
    "\n",
    "# Show new dataframe\n",
    "result_df.show()\n",
    "\n",
    "# Most followed user\n",
    "win_global = Window.orderBy(col(\"follower_count\").desc())\n",
    "\n",
    "most_followed = result_df \\\n",
    ".withColumn(\"global_rank\", row_number().over(win_global)) \\\n",
    ".filter(col(\"global_rank\") == 1) \\\n",
    ".select(\"country\", \"follower_count\") \\\n",
    "\n",
    "# Show new dataframe\n",
    "most_followed.show()"
   ]
  },
  {
   "cell_type": "markdown",
   "metadata": {
    "application/vnd.databricks.v1+cell": {
     "cellMetadata": {},
     "inputWidgets": {},
     "nuid": "aee1288c-7fbd-4013-8b33-0fd1f25a016f",
     "showTitle": false,
     "tableResultSettingsMap": {},
     "title": ""
    }
   },
   "source": [
    "## Milestone 6 - Querying - Most popular category in different age groups ##"
   ]
  },
  {
   "cell_type": "code",
   "execution_count": 0,
   "metadata": {
    "application/vnd.databricks.v1+cell": {
     "cellMetadata": {
      "byteLimit": 2048000,
      "rowLimit": 10000
     },
     "inputWidgets": {},
     "nuid": "bb782444-702f-4f02-9d54-f86201b122d0",
     "showTitle": false,
     "tableResultSettingsMap": {},
     "title": ""
    }
   },
   "outputs": [
    {
     "output_type": "stream",
     "name": "stdout",
     "output_type": "stream",
     "text": [
      "+---------+------------+--------------+\n|age_group|    category|category_count|\n+---------+------------+--------------+\n|    18-24|     tattoos|            27|\n|    25-35|         art|            18|\n|    36-50|      travel|            17|\n|      50+|mens-fashion|             5|\n+---------+------------+--------------+\n\n"
     ]
    }
   ],
   "source": [
    "# Setup age group column based on age\n",
    "df_age_group = pin_geo_user.withColumn(\n",
    "    \"age_group\",\n",
    "    when((col(\"age\") >= 18) & (col(\"age\") <= 24), \"18-24\")\n",
    "    .when((col(\"age\") >= 25) & (col(\"age\") <= 35), \"25-35\")\n",
    "    .when((col(\"age\") >= 36) & (col(\"age\") <= 50), \"36-50\")\n",
    "    .when(col(\"age\") > 50, \"50+\")\n",
    "    .otherwise(\"unknown\")  # Unexpected values\n",
    ")\n",
    "\n",
    "#df_age_group.show()\n",
    "\n",
    "# Group by age group and category and count values\n",
    "category_counts = df_age_group.groupBy(\"age_group\", \"category\").agg(count(\"*\").alias(\"category_count\"))\n",
    "\n",
    "# Window function for ranking\n",
    "win = Window.partitionBy(\"age_group\").orderBy(col(\"category_count\").desc())\n",
    "\n",
    "# Rank and filter for the top ranked category\n",
    "category_counts.withColumn(\"rank\", row_number().over(win)) \\\n",
    ".filter(col(\"rank\") == 1) \\\n",
    ".drop(\"rank\") \\\n",
    ".show()\n"
   ]
  },
  {
   "cell_type": "markdown",
   "metadata": {
    "application/vnd.databricks.v1+cell": {
     "cellMetadata": {},
     "inputWidgets": {},
     "nuid": "fb2cf061-3ccf-4f88-89a3-9b10f3dd084a",
     "showTitle": false,
     "tableResultSettingsMap": {},
     "title": ""
    }
   },
   "source": [
    "## Milestone 6 - Querying - Median follower count for different age groups ##"
   ]
  },
  {
   "cell_type": "code",
   "execution_count": 0,
   "metadata": {
    "application/vnd.databricks.v1+cell": {
     "cellMetadata": {
      "byteLimit": 2048000,
      "rowLimit": 10000
     },
     "inputWidgets": {},
     "nuid": "588fc6b9-0c5b-4171-b75f-c306b731cdb3",
     "showTitle": false,
     "tableResultSettingsMap": {},
     "title": ""
    }
   },
   "outputs": [
    {
     "output_type": "stream",
     "name": "stdout",
     "output_type": "stream",
     "text": [
      "+---------+---------------------+\n|age_group|median_follower_count|\n+---------+---------------------+\n|    18-24|             139000.0|\n|    25-35|              27500.0|\n|    36-50|               5000.0|\n|      50+|               1000.0|\n+---------+---------------------+\n\n"
     ]
    }
   ],
   "source": [
    "# df_age_group set above\n",
    "# Window function for row numbers and count\n",
    "win = Window.partitionBy(\"age_group\").orderBy(\"follower_count\")\n",
    "\n",
    "# row number and total count of rows per age group\n",
    "df_with_rank = df_age_group \\\n",
    ".withColumn(\"row_number\", expr(\"ROW_NUMBER() OVER (PARTITION BY age_group ORDER BY follower_count)\")) \\\n",
    ".withColumn(\"total_count\", expr(\"COUNT(*) OVER (PARTITION BY age_group)\"))\n",
    "\n",
    "# Find median rows\n",
    "df_median = df_with_rank.filter(\n",
    "    (col(\"row_number\") == (col(\"total_count\") / 2).cast(\"int\")) |  # Lower median row (for even counts)\n",
    "    (col(\"row_number\") == (col(\"total_count\") / 2 + 1).cast(\"int\"))  # Upper median row\n",
    ")\n",
    "\n",
    "# Aggregate to compute the median for each age group\n",
    "median_result = df_median.groupBy(\"age_group\") \\\n",
    "    .agg(expr(\"AVG(follower_count)\").alias(\"median_follower_count\"))\n",
    "\n",
    "# Output\n",
    "median_result.show()"
   ]
  },
  {
   "cell_type": "markdown",
   "metadata": {
    "application/vnd.databricks.v1+cell": {
     "cellMetadata": {},
     "inputWidgets": {},
     "nuid": "7156124d-dba8-404a-bdac-c0387c169611",
     "showTitle": false,
     "tableResultSettingsMap": {},
     "title": ""
    }
   },
   "source": [
    "## Milestone 6 - Querying - How many users have joined each year ##"
   ]
  },
  {
   "cell_type": "code",
   "execution_count": 0,
   "metadata": {
    "application/vnd.databricks.v1+cell": {
     "cellMetadata": {
      "byteLimit": 2048000,
      "rowLimit": 10000
     },
     "inputWidgets": {},
     "nuid": "953e819d-a90e-4ead-9ef1-41fad3584713",
     "showTitle": false,
     "tableResultSettingsMap": {},
     "title": ""
    }
   },
   "outputs": [
    {
     "output_type": "stream",
     "name": "stdout",
     "output_type": "stream",
     "text": [
      "+---------+-----------+\n|join_year|total_users|\n+---------+-----------+\n|     2015|        184|\n|     2016|        235|\n|     2017|         81|\n+---------+-----------+\n\n"
     ]
    }
   ],
   "source": [
    "# Using date_joined to count the number of users who have joined each year\n",
    "# Get the year from the date_joined column\n",
    "df_user_with_year = df_user.withColumn(\"join_year\", year(col(\"date_joined\")))\n",
    "\n",
    "# Group by the year and count the number of users for each year\n",
    "users_per_year = df_user_with_year.groupBy(\"join_year\").agg(count(\"*\").alias(\"total_users\"))\n",
    "\n",
    "# Show the result\n",
    "users_per_year.show()"
   ]
  },
  {
   "cell_type": "markdown",
   "metadata": {
    "application/vnd.databricks.v1+cell": {
     "cellMetadata": {},
     "inputWidgets": {},
     "nuid": "e0471967-bb38-4da4-9974-9b467bfdd259",
     "showTitle": false,
     "tableResultSettingsMap": {},
     "title": ""
    }
   },
   "source": [
    "## Milestone 6 - Querying - Median count of user based on joining year ##"
   ]
  },
  {
   "cell_type": "code",
   "execution_count": 0,
   "metadata": {
    "application/vnd.databricks.v1+cell": {
     "cellMetadata": {
      "byteLimit": 2048000,
      "rowLimit": 10000
     },
     "inputWidgets": {},
     "nuid": "4811a97d-843d-4704-a819-6b9f5a5af2e4",
     "showTitle": false,
     "tableResultSettingsMap": {},
     "title": ""
    }
   },
   "outputs": [
    {
     "output_type": "stream",
     "name": "stdout",
     "output_type": "stream",
     "text": [
      "+---------+---------------------+\n|post_year|median_follower_count|\n+---------+---------------------+\n|     2015|             124500.0|\n|     2016|              22000.0|\n|     2017|               3000.0|\n+---------+---------------------+\n\n"
     ]
    }
   ],
   "source": [
    "# Extract year from Timestamp and filter for years between 2015 and 2020\n",
    "df_post_year = pin_geo_user.withColumn(\"post_year\", year(col(\"date_joined\"))) \\\n",
    "    .filter((col(\"post_year\") >= 2015) & (col(\"post_year\") <= 2020))\n",
    "\n",
    "# Window function for row numbers and total count per year\n",
    "win = Window.partitionBy(\"post_year\").orderBy(\"follower_count\")\n",
    "\n",
    "# Add row_number and total_count columns\n",
    "df_rank = df_post_year \\\n",
    "    .withColumn(\"row_number\", expr(\"ROW_NUMBER() OVER (PARTITION BY post_year ORDER BY follower_count)\")) \\\n",
    "    .withColumn(\"total_count\", expr(\"COUNT(*) OVER (PARTITION BY post_year)\"))\n",
    "\n",
    "# Work out median rows\n",
    "median_df = df_rank.filter(\n",
    "    (col(\"row_number\") == (col(\"total_count\") / 2).cast(\"int\")) |  # Lower middle row for even count\n",
    "    (col(\"row_number\") == (col(\"total_count\") / 2 + 1).cast(\"int\"))  # Upper middle row for odd or even count\n",
    ")\n",
    "\n",
    "# Aggregate to calculate the median follower count\n",
    "median_result = median_df.groupBy(\"post_year\") \\\n",
    "    .agg(expr(\"AVG(follower_count)\").alias(\"median_follower_count\"))\n",
    "\n",
    "# Show the result\n",
    "median_result.show()"
   ]
  },
  {
   "cell_type": "markdown",
   "metadata": {
    "application/vnd.databricks.v1+cell": {
     "cellMetadata": {},
     "inputWidgets": {},
     "nuid": "231328aa-c6a7-433f-ad80-e2165c7378ca",
     "showTitle": false,
     "tableResultSettingsMap": {},
     "title": ""
    }
   },
   "source": [
    "## Median follower count of users based on their age group##"
   ]
  },
  {
   "cell_type": "code",
   "execution_count": 0,
   "metadata": {
    "application/vnd.databricks.v1+cell": {
     "cellMetadata": {
      "byteLimit": 2048000,
      "rowLimit": 10000
     },
     "inputWidgets": {},
     "nuid": "2dd4dcba-73e4-41b7-8aeb-7d9c7fd4e5af",
     "showTitle": false,
     "tableResultSettingsMap": {},
     "title": ""
    }
   },
   "outputs": [
    {
     "output_type": "stream",
     "name": "stdout",
     "output_type": "stream",
     "text": [
      "+---------+---------+---------------------+\n|age_group|post_year|median_follower_count|\n+---------+---------+---------------------+\n|    18-24|     2015|             413000.0|\n|    18-24|     2016|              46000.0|\n|    18-24|     2017|              13500.0|\n|    25-35|     2015|              42000.0|\n|    25-35|     2016|              27000.0|\n|    25-35|     2017|               3500.0|\n|    36-50|     2015|               9500.0|\n|    36-50|     2016|               6500.0|\n|    36-50|     2017|               3000.0|\n|      50+|     2015|               7098.0|\n|      50+|     2016|                954.0|\n|      50+|     2017|                758.5|\n+---------+---------+---------------------+\n\n"
     ]
    }
   ],
   "source": [
    "# df_age_group set above\n",
    "\n",
    "# Filter for users who joined between 2015 and 2020\n",
    "df_filtered = df_age_group.withColumn(\"post_year\", year(col(\"date_joined\"))) \\\n",
    "    .filter((col(\"post_year\") >= 2015) & (col(\"post_year\") <= 2020))\n",
    "\n",
    "\n",
    "# Window function for ranking and counting within age group and year\n",
    "win = Window.partitionBy(\"age_group\", \"post_year\").orderBy(\"follower_count\")\n",
    "\n",
    "df_with_rank = df_filtered.withColumn(\n",
    "    \"row_number\", expr(\"ROW_NUMBER() OVER (PARTITION BY age_group, post_year ORDER BY follower_count)\")\n",
    ").withColumn(\n",
    "    \"total_count\", expr(\"COUNT(*) OVER (PARTITION BY age_group, post_year)\")\n",
    ")\n",
    "\n",
    "# Median rows\n",
    "median_df = df_with_rank.filter(\n",
    "    (col(\"row_number\") == (col(\"total_count\") / 2).cast(\"int\")) |  # Lower median row for even counts\n",
    "    (col(\"row_number\") == (col(\"total_count\") / 2 + 1).cast(\"int\"))  # Upper median row\n",
    ")\n",
    "\n",
    "# Aggregate to calculate the median follower count\n",
    "median_result = median_df.groupBy(\"age_group\", \"post_year\") \\\n",
    "    .agg(expr(\"AVG(follower_count)\").alias(\"median_follower_count\"))\n",
    "\n",
    "# Show the result\n",
    "median_result.show()"
   ]
  }
 ],
 "metadata": {
  "application/vnd.databricks.v1+notebook": {
   "computePreferences": null,
   "dashboards": [],
   "environmentMetadata": {
    "base_environment": "",
    "client": "2"
   },
   "language": "python",
   "notebookMetadata": {
    "pythonIndentUnit": 4
   },
   "notebookName": "Milestone 6 - Query Data",
   "widgets": {}
  },
  "language_info": {
   "name": "python"
  }
 },
 "nbformat": 4,
 "nbformat_minor": 0
}